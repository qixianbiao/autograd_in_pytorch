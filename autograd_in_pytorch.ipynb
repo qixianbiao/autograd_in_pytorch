{
 "cells": [
  {
   "cell_type": "markdown",
   "metadata": {},
   "source": [
    "# Autograd in Pytorch\n",
    "\n"
   ]
  },
  {
   "cell_type": "code",
   "execution_count": 1,
   "metadata": {
    "collapsed": true
   },
   "outputs": [],
   "source": [
    "import torch\n",
    "from torch.autograd import Variable"
   ]
  },
  {
   "cell_type": "markdown",
   "metadata": {},
   "source": [
    "# Example 1\n",
    "- $y = a^{T}x$\n",
    "- $y : $ a scalar\n",
    "- $a: n*1$\n",
    "- $x: n*1$"
   ]
  },
  {
   "cell_type": "code",
   "execution_count": 2,
   "metadata": {
    "collapsed": false
   },
   "outputs": [
    {
     "name": "stdout",
     "output_type": "stream",
     "text": [
      "Variable containing:\n",
      " 0.0263\n",
      " 0.6316\n",
      " 0.4860\n",
      "[torch.FloatTensor of size 3x1]\n",
      "\n",
      "Variable containing:\n",
      " 0.3690\n",
      " 0.4543\n",
      " 0.2536\n",
      "[torch.FloatTensor of size 3x1]\n",
      "\n"
     ]
    }
   ],
   "source": [
    "a = Variable(torch.rand(3, 1),requires_grad=True)\n",
    "x = Variable(torch.rand(3, 1),requires_grad=True)\n",
    "print(a)\n",
    "print(x)"
   ]
  },
  {
   "cell_type": "code",
   "execution_count": 3,
   "metadata": {
    "collapsed": false
   },
   "outputs": [
    {
     "name": "stdout",
     "output_type": "stream",
     "text": [
      "Variable containing:\n",
      " 0.3690\n",
      " 0.4543\n",
      " 0.2536\n",
      "[torch.FloatTensor of size 3x1]\n",
      "\n",
      "Variable containing:\n",
      " 0.0263\n",
      " 0.6316\n",
      " 0.4860\n",
      "[torch.FloatTensor of size 3x1]\n",
      "\n"
     ]
    }
   ],
   "source": [
    "y = torch.mm(a.t(), x)\n",
    "y.backward()\n",
    "#gradients of a and x\n",
    "print(a.grad)   #a.grad = x\n",
    "print(x.grad)   #x.grad = a"
   ]
  },
  {
   "cell_type": "markdown",
   "metadata": {},
   "source": [
    "# Example 2\n",
    "- $y = (Ax + b)^{T} C (Dx + e)$\n",
    "\n",
    "- $\\frac{dy}{dx} = D^{T} C^{T} (Ax + b) + A^{T} C (Dx + e)$"
   ]
  },
  {
   "cell_type": "code",
   "execution_count": 4,
   "metadata": {
    "collapsed": false
   },
   "outputs": [
    {
     "data": {
      "text/plain": [
       "Variable containing:\n",
       " 15.3506\n",
       " 18.2916\n",
       " 18.1267\n",
       " 19.5261\n",
       " 14.5658\n",
       "[torch.FloatTensor of size 5x1]"
      ]
     },
     "execution_count": 4,
     "metadata": {},
     "output_type": "execute_result"
    }
   ],
   "source": [
    "A = torch.rand(5, 5)\n",
    "b = torch.rand(5, 1)\n",
    "C = torch.rand(5, 5)\n",
    "D = torch.rand(5, 5)\n",
    "e = torch.rand(5, 1)\n",
    "x = torch.rand(5, 1)\n",
    "A = Variable(A, requires_grad=False)\n",
    "b = Variable(b, requires_grad=False)\n",
    "C = Variable(C, requires_grad=False)\n",
    "D = Variable(D, requires_grad=False)\n",
    "e = Variable(e, requires_grad=False)\n",
    "x = Variable(torch.rand(5, 1), requires_grad=True)\n",
    "z = torch.mm( torch.mm((torch.mm(A, x) + b).t(), C), torch.mm(D, x) + e)\n",
    "z.backward()\n",
    "x.grad"
   ]
  },
  {
   "cell_type": "code",
   "execution_count": 5,
   "metadata": {
    "collapsed": false
   },
   "outputs": [
    {
     "data": {
      "text/plain": [
       "Variable containing:\n",
       " 15.3506\n",
       " 18.2916\n",
       " 18.1267\n",
       " 19.5261\n",
       " 14.5658\n",
       "[torch.FloatTensor of size 5x1]"
      ]
     },
     "execution_count": 5,
     "metadata": {},
     "output_type": "execute_result"
    }
   ],
   "source": [
    "ggg = torch.mm(torch.mm(D.t(), C.t()), torch.mm(A, x)+b) + torch.mm(torch.mm(A.t(), C), torch.mm(D, x)+e)\n",
    "ggg"
   ]
  },
  {
   "cell_type": "markdown",
   "metadata": {},
   "source": [
    "# Example 3\n",
    "- $y = Tr(X^{-1} A)$\n",
    "- $\\frac{dy}{dX} =  (X^{-1})^{T} A^{T} (X^{-1})^{T}$\n"
   ]
  },
  {
   "cell_type": "code",
   "execution_count": 10,
   "metadata": {
    "collapsed": false
   },
   "outputs": [
    {
     "data": {
      "text/plain": [
       "Variable containing:\n",
       "-2.9844 -0.2446  3.7941  0.9616 -3.5510\n",
       "-0.0349 -1.7525  1.0605 -1.5747  0.3098\n",
       " 3.1534  0.7167 -4.4618 -1.8378  3.2593\n",
       " 0.7950  0.2828 -0.9144  0.8011  1.1108\n",
       "-0.2610 -1.8084 -0.9913 -0.1987 -0.9159\n",
       "[torch.FloatTensor of size 5x5]"
      ]
     },
     "execution_count": 10,
     "metadata": {},
     "output_type": "execute_result"
    }
   ],
   "source": [
    "X = Variable(torch.rand(5, 5), requires_grad=True)\n",
    "A = Variable(torch.rand(5, 5), requires_grad=False)\n",
    "y = torch.trace(torch.mm(torch.inverse(X), A))\n",
    "y.backward()\n",
    "X.grad"
   ]
  },
  {
   "cell_type": "code",
   "execution_count": 11,
   "metadata": {
    "collapsed": false
   },
   "outputs": [
    {
     "data": {
      "text/plain": [
       "Variable containing:\n",
       "-2.9844 -0.2446  3.7941  0.9616 -3.5510\n",
       "-0.0349 -1.7525  1.0605 -1.5747  0.3098\n",
       " 3.1534  0.7167 -4.4618 -1.8378  3.2593\n",
       " 0.7950  0.2828 -0.9144  0.8011  1.1108\n",
       "-0.2610 -1.8084 -0.9913 -0.1987 -0.9159\n",
       "[torch.FloatTensor of size 5x5]"
      ]
     },
     "execution_count": 11,
     "metadata": {},
     "output_type": "execute_result"
    }
   ],
   "source": [
    "ggg = -torch.mm(torch.mm(torch.inverse(X).t(), A.t()), torch.inverse(X).t())\n",
    "ggg"
   ]
  },
  {
   "cell_type": "code",
   "execution_count": null,
   "metadata": {
    "collapsed": true
   },
   "outputs": [],
   "source": []
  }
 ],
 "metadata": {
  "kernelspec": {
   "display_name": "Python 2",
   "language": "python",
   "name": "python2"
  },
  "language_info": {
   "codemirror_mode": {
    "name": "ipython",
    "version": 2
   },
   "file_extension": ".py",
   "mimetype": "text/x-python",
   "name": "python",
   "nbconvert_exporter": "python",
   "pygments_lexer": "ipython2",
   "version": "2.7.13"
  }
 },
 "nbformat": 4,
 "nbformat_minor": 2
}
